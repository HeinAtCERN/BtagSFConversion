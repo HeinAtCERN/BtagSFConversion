{
 "metadata": {
  "name": "",
  "signature": "sha256:770e397c372c96d296151103591ad8a7118e35dfae09d15c0971cf25b5068c4b"
 },
 "nbformat": 3,
 "nbformat_minor": 0,
 "worksheets": [
  {
   "cells": [
    {
     "cell_type": "code",
     "collapsed": false,
     "input": [
      "import os"
     ],
     "language": "python",
     "metadata": {},
     "outputs": [],
     "prompt_number": 2
    },
    {
     "cell_type": "code",
     "collapsed": false,
     "input": [
      "wps   = set()\n",
      "cls   = set()\n",
      "rtype = set()\n",
      "binv  = set()\n",
      "combo = set()\n",
      "\n",
      "for p, _, fnames in os.walk('.'):\n",
      "    if any(d in p for d in ('/.git', '.ipynb')):\n",
      "        continue\n",
      "    for fname in fnames:\n",
      "        if 'payload' in fname or not fname.endswith('.txt'):\n",
      "            continue\n",
      "        print os.path.join(p, fname)\n",
      "        with open(os.path.join(p, fname)) as f:\n",
      "            lines = f.readlines()\n",
      "        wps.add(lines[0])\n",
      "        cls.add(lines[2])\n",
      "        \n",
      "        # delete leading lines\n",
      "        typ = lines[2]\n",
      "        if 'PerformancePayloadFromTable' in lines[2]:\n",
      "            lines = lines[5:]\n",
      "        else:\n",
      "            lines = lines[6:]\n",
      "\n",
      "\n",
      "        for line in lines:\n",
      "            if all(s in line for s in 'xy'):\n",
      "                print 'WHOOT:'\n",
      "                print p+'/'+fname\n",
      "                print line\n",
      "\n",
      "        rtype_line = lines[0]\n",
      "        binv_line = lines[1]\n",
      "        \n",
      "        rtype.add(rtype_line)\n",
      "        binv.add(binv_line)\n",
      "        combo.add(rtype_line + binv_line + typ)\n",
      "\n",
      "print wps\n",
      "print cls\n",
      "print rtype\n",
      "print binv\n",
      "print combo"
     ],
     "language": "python",
     "metadata": {},
     "outputs": [
      {
       "output_type": "stream",
       "stream": "stdout",
       "text": [
        "./7TeV/SFb/NOttbar/BTAGTNOTBARCSVL_7TEV.txt\n",
        "./7TeV/SFb/NOttbar/BTAGTNOTBARCSVM_7TEV.txt\n",
        "./7TeV/SFb/NOttbar/BTAGTNOTBARCSVT_7TEV.txt\n",
        "./7TeV/SFb/NOttbar/BTAGTNOTBARTCHPT_7TEV.txt\n",
        "./7TeV/SFb/NOttbar/CTAGTNOTBARCSVL_7TEV.txt\n",
        "./7TeV/SFb/NOttbar/CTAGTNOTBARCSVM_7TEV.txt\n",
        "./7TeV/SFb/NOttbar/CTAGTNOTBARCSVT_7TEV.txt\n",
        "./7TeV/SFb/NOttbar/CTAGTNOTBARTCHPT_7TEV.txt\n",
        "./7TeV/SFb/ttbar/BTAGTTBARCSVL_7TEV.txt\n",
        "./7TeV/SFb/ttbar/BTAGTTBARCSVM_7TEV.txt\n",
        "./7TeV/SFb/ttbar/BTAGTTBARCSVT_7TEV.txt\n",
        "./7TeV/SFb/ttbar/BTAGTTBARTCHPT_7TEV.txt\n",
        "./7TeV/SFb/ttbar/CTAGTTBARCSVL_7TEV.txt\n",
        "./7TeV/SFb/ttbar/CTAGTTBARCSVM_7TEV.txt\n",
        "./7TeV/SFb/ttbar/CTAGTTBARCSVT_7TEV.txt\n",
        "./7TeV/SFb/ttbar/CTAGTTBARTCHPT_7TEV.txt\n",
        "./7TeV/SFLIGHT_7TeV/MISTAGCSVL.txt\n",
        "./7TeV/SFLIGHT_7TeV/MISTAGCSVM.txt\n",
        "./7TeV/SFLIGHT_7TeV/MISTAGCSVT.txt\n",
        "./7TeV/SFLIGHT_7TeV/MISTAGTCHPT.txt\n",
        "set(['CombinedSecondaryVertexL\\n', 'CombinedSecondaryVertexT\\n', 'CombinedSecondaryVertexM\\n', 'TrackCountingHighPurT\\n'])\n",
        "set(['PerformancePayloadFromBinnedTFormula\\n'])\n",
        "set(['1009 1010\\n', '1013 1014\\n'])\n",
        "set(['1 2\\n'])\n",
        "set(['1013 1014\\n1 2\\nPerformancePayloadFromBinnedTFormula\\n', '1009 1010\\n1 2\\nPerformancePayloadFromBinnedTFormula\\n'])\n"
       ]
      }
     ],
     "prompt_number": 11
    },
    {
     "cell_type": "code",
     "collapsed": false,
     "input": [
      "\n"
     ],
     "language": "python",
     "metadata": {},
     "outputs": []
    }
   ],
   "metadata": {}
  }
 ]
}