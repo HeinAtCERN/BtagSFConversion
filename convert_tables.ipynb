{
 "metadata": {
  "name": "",
  "signature": "sha256:ca41b4e9fd47cc77efbf1b949e59c51318743bb359841613ed0fdfba0337c2b7"
 },
 "nbformat": 3,
 "nbformat_minor": 0,
 "worksheets": [
  {
   "cells": [
    {
     "cell_type": "code",
     "collapsed": false,
     "input": [
      "import os\n",
      "\n",
      "# Order of items in new format:\n",
      "    # op\n",
      "    # meas\n",
      "    # sys\n",
      "    # flav\n",
      "    # eta\n",
      "    # pt\n",
      "    # disc\n",
      "\n",
      "op_vals = {'L': 0, 'M': 1, 'T': 2}\n",
      "    \n",
      "\n",
      "def walker():\n",
      "    for p, _, fnames in os.walk('.'):\n",
      "        for fname in fnames:\n",
      "            if not fname.endswith('.txt'):\n",
      "                continue\n",
      "            with open(os.path.join(p, fname)) as f:\n",
      "                lines = f.readlines()\n",
      "            yield lines\n",
      "     \n",
      "            \n",
      "def handle_table(lines):\n",
      "    op = op_vals[lines[0][-2]]\n",
      "    l = lines[7]\n",
      "    l = map(float, l.split())\n",
      "    return (\n",
      "        [op, None, 'central', 0] + l[:4]+[0, 1] + [l[4]]        ,\n",
      "        [op, None, 'up',      0] + l[:4]+[0, 1] + [l[4] + l[5]] ,\n",
      "        [op, None, 'down',    0] + l[:4]+[0, 1] + [l[4] - l[5]] ,\n",
      "        [op, None, 'central', 1] + l[:4]+[0, 1] + [l[6]]        ,\n",
      "        [op, None, 'up',      1] + l[:4]+[0, 1] + [l[6] + l[7]] ,\n",
      "        [op, None, 'down',    1] + l[:4]+[0, 1] + [l[6] - l[7]] ,\n",
      "    #   ^^^^op,meas,sys,flav^^^^ + ^^^^bins^^^^ + ^^^^func^^^^^\n",
      "    )\n",
      "\n",
      "    \n",
      "def handle_formula_0(lines):\n",
      "    pass\n",
      "\n",
      "def handle_formula_1(lines):\n",
      "    pass\n",
      "\n",
      "def handle_formula_2(lines):\n",
      "    pass\n",
      "\n",
      "function_map = {\n",
      "    'PerformancePayloadFromTable\\n1009 1010 1011 1012\\n1 2\\n': handle_table, \n",
      "    'PerformancePayloadFromBinnedTFormula\\n1013 1014\\n1 2\\n': handle_formula_0,\n",
      "    'PerformancePayloadFromBinnedTFormula\\n1009 1010\\n1 2\\n': handle_formula_1,\n",
      "    'PerformancePayloadFromBinnedTFormula\\n1009 1010\\n1 2001\\n': handle_formula_2, \n",
      "}"
     ],
     "language": "python",
     "metadata": {},
     "outputs": [],
     "prompt_number": 35
    },
    {
     "cell_type": "code",
     "collapsed": false,
     "input": [
      "final_sfs = {}\n",
      "for lines in walker():\n",
      "    typ = lines[2]\n",
      "    if 'PerformancePayloadFromTable' in typ:\n",
      "        ident = typ + lines[5] + lines[6]\n",
      "    else:\n",
      "        ident = typ + lines[6] + lines[7]\n",
      "    function_map[ident](lines)\n",
      "    \n",
      "    # meas\n",
      "    \n",
      "    \n"
     ],
     "language": "python",
     "metadata": {},
     "outputs": [
      {
       "output_type": "stream",
       "stream": "stdout",
       "text": [
        "[0, None, 'central', 1, 0.0, 2.4, 0.0, 499.0, 0, 1, 0.963]\n",
        "[0, None, 'up', 1, 0.0, 2.4, 0.0, 499.0, 0, 1, 1.003]\n",
        "[0, None, 'down', 1, 0.0, 2.4, 0.0, 499.0, 0, 1, 0.9229999999999999]\n",
        "[1, None, 'central', 1, 0.0, 2.4, 0.0, 499.0, 0, 1, 1.008]\n",
        "[1, None, 'up', 1, 0.0, 2.4, 0.0, 499.0, 0, 1, 1.054]\n",
        "[1, None, 'down', 1, 0.0, 2.4, 0.0, 499.0, 0, 1, 0.962]\n",
        "[2, None, 'central', 1, 0.0, 2.4, 0.0, 499.0, 0, 1, 0.947]\n",
        "[2, None, 'up', 1, 0.0, 2.4, 0.0, 499.0, 0, 1, 0.997]\n",
        "[2, None, 'down', 1, 0.0, 2.4, 0.0, 499.0, 0, 1, 0.8969999999999999]\n",
        "[0, None, 'central', 1, 0.0, 2.4, 0.0, 499.0, 0, 1, 0.968]\n",
        "[0, None, 'up', 1, 0.0, 2.4, 0.0, 499.0, 0, 1, 1.004]\n",
        "[0, None, 'down', 1, 0.0, 2.4, 0.0, 499.0, 0, 1, 0.9319999999999999]\n",
        "[1, None, 'central', 1, 0.0, 2.4, 0.0, 499.0, 0, 1, 0.97]\n",
        "[1, None, 'up', 1, 0.0, 2.4, 0.0, 499.0, 0, 1, 1.004]\n",
        "[1, None, 'down', 1, 0.0, 2.4, 0.0, 499.0, 0, 1, 0.9359999999999999]\n",
        "[2, None, 'central', 1, 0.0, 2.4, 0.0, 499.0, 0, 1, 0.902]\n",
        "[2, None, 'up', 1, 0.0, 2.4, 0.0, 499.0, 0, 1, 0.9560000000000001]\n",
        "[2, None, 'down', 1, 0.0, 2.4, 0.0, 499.0, 0, 1, 0.848]\n",
        "[2, None, 'central', 1, 0.0, 2.4, 0.0, 499.0, 0, 1, 0.911]\n",
        "[2, None, 'up', 1, 0.0, 2.4, 0.0, 499.0, 0, 1, 0.9650000000000001]\n",
        "[2, None, 'down', 1, 0.0, 2.4, 0.0, 499.0, 0, 1, 0.857]\n"
       ]
      }
     ],
     "prompt_number": 36
    },
    {
     "cell_type": "code",
     "collapsed": false,
     "input": [],
     "language": "python",
     "metadata": {},
     "outputs": [],
     "prompt_number": 28
    },
    {
     "cell_type": "code",
     "collapsed": false,
     "input": [],
     "language": "python",
     "metadata": {},
     "outputs": []
    }
   ],
   "metadata": {}
  }
 ]
}