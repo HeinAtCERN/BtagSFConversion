{
 "metadata": {
  "name": "",
  "signature": "sha256:c29fb29a6d63a7692b78a0b9962f94a2fefc733f0dcaac35b69f01083ca1d2d1"
 },
 "nbformat": 3,
 "nbformat_minor": 0,
 "worksheets": [
  {
   "cells": [
    {
     "cell_type": "code",
     "collapsed": false,
     "input": [
      "import os"
     ],
     "language": "python",
     "metadata": {},
     "outputs": [],
     "prompt_number": 2
    },
    {
     "cell_type": "code",
     "collapsed": false,
     "input": [
      "wps   = set()\n",
      "cls   = set()\n",
      "rtype = set()\n",
      "binv  = set()\n",
      "combo = set()\n",
      "\n",
      "for p, _, fnames in os.walk('.'):\n",
      "    if any(d in p for d in ('/.git', '.ipynb')):\n",
      "        continue\n",
      "    print p\n",
      "    for fname in fnames:\n",
      "        if not fname.endswith('.txt'):\n",
      "            continue\n",
      "        with open(os.path.join(p, fname)) as f:\n",
      "            lines = f.readlines()\n",
      "        wps.add(lines[0])\n",
      "        cls.add(lines[2])\n",
      "            \n",
      "        # delete leading lines\n",
      "        typ = lines[2]\n",
      "        if 'PerformancePayloadFromTable' in lines[2]:\n",
      "            lines = lines[5:]\n",
      "        else:\n",
      "            lines = lines[6:]\n",
      "\n",
      "\n",
      "        for line in lines:\n",
      "            if all(s in line for s in 'xy'):\n",
      "                print 'WHOOT:'\n",
      "                print p+'/'+fname\n",
      "                print line\n",
      "\n",
      "        rtype_line = lines[0]\n",
      "        binv_line = lines[1]\n",
      "        \n",
      "        rtype.add(rtype_line)\n",
      "        binv.add(binv_line)\n",
      "        combo.add(rtype_line + binv_line + typ)\n",
      "\n",
      "print wps\n",
      "print cls\n",
      "print rtype\n",
      "print binv\n",
      "print combo"
     ],
     "language": "python",
     "metadata": {},
     "outputs": [
      {
       "output_type": "stream",
       "stream": "stdout",
       "text": [
        ".\n",
        "./mujets_wp\n",
        "./mujets_wp/NOttbar\n",
        "./mujets_wp/ttbar\n",
        "./SFLIGHT\n",
        "./TTbar\n",
        "set(['CombinedSecondaryVertexT\\n', 'TrackCountingHighPurT\\n', 'CombinedSecondaryVertexL\\n', 'CombinedSecondaryVertexSoftPFLeptonV1T\\n', 'CombinedSecondaryVertexM\\n', 'CombinedSecondaryVertexV1L\\n', 'CombinedSecondaryVertexV1M\\n', 'JetProbabilityT\\n', 'CombinedSecondaryVertexSoftPFLeptonV1L\\n', 'CombinedSecondaryVertexSoftPFLeptonV1M\\n', 'CombinedSecondaryVertexV1T\\n', 'TrackCountingHighPur\\n', 'CombinedSecondaryVertex\\n', 'JetProbabilityL\\n', 'JetProbability\\n', 'JetProbabilityM\\n'])\n",
        "set(['PerformancePayloadFromBinnedTFormula\\n', 'PerformancePayloadFromTable\\n'])\n",
        "set(['1009 1010\\n', '1009 1010 1011 1012\\n', '1013 1014\\n'])\n",
        "set(['1 2001\\n', '1 2\\n'])\n",
        "set(['1009 1010\\n1 2001\\nPerformancePayloadFromBinnedTFormula\\n', '1013 1014\\n1 2\\nPerformancePayloadFromBinnedTFormula\\n', '1009 1010\\n1 2\\nPerformancePayloadFromBinnedTFormula\\n', '1009 1010 1011 1012\\n1 2\\nPerformancePayloadFromTable\\n'])\n"
       ]
      }
     ],
     "prompt_number": 10
    },
    {
     "cell_type": "code",
     "collapsed": false,
     "input": [
      "\n"
     ],
     "language": "python",
     "metadata": {},
     "outputs": []
    }
   ],
   "metadata": {}
  }
 ]
}