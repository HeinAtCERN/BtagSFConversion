{
 "metadata": {
  "name": "",
  "signature": "sha256:93ff31100484e136aee91b4efed4fd5a7c8ac71445fcba9c19b894fda222fe00"
 },
 "nbformat": 3,
 "nbformat_minor": 0,
 "worksheets": [
  {
   "cells": [
    {
     "cell_type": "code",
     "collapsed": false,
     "input": [
      "import os"
     ],
     "language": "python",
     "metadata": {},
     "outputs": [],
     "prompt_number": 55
    },
    {
     "cell_type": "code",
     "collapsed": false,
     "input": [
      "wps   = set()\n",
      "cls   = set()\n",
      "rtype = set()\n",
      "binv  = set()\n",
      "\n",
      "for p, _, fnames in os.walk('.'):\n",
      "    print p\n",
      "    for fname in fnames:\n",
      "        if not fname.endswith('.txt'):\n",
      "            continue\n",
      "        with open(os.path.join(p, fname)) as f:\n",
      "            lines = f.readlines()\n",
      "        wps.add(lines[0])\n",
      "        cls.add(lines[2])\n",
      "            \n",
      "        # delete leading lines\n",
      "        if 'PerformancePayloadFromTable' in lines[2]:\n",
      "            lines = lines[5:]\n",
      "        else:\n",
      "            lines = lines[6:]\n",
      "\n",
      "\n",
      "        for line in lines:\n",
      "            if all(s in line for s in 'xy'):\n",
      "                print 'WHOOT:'\n",
      "                print p+'/'+fname\n",
      "                print line\n",
      "\n",
      "        rtype_line = lines[0]\n",
      "        binv_line = lines[1]\n",
      "        \n",
      "        for rtype_str in rtype_line.split(' '):\n",
      "            rtype.add(int(rtype_str))\n",
      "        for binv_str in binv_line.split(' '):\n",
      "            binv.add(int(binv_str))\n",
      "\n",
      "print wps\n",
      "print cls\n",
      "print rtype\n",
      "print binv\n",
      "\n",
      "print set(algo[:14] for algo in wps)"
     ],
     "language": "python",
     "metadata": {},
     "outputs": [
      {
       "output_type": "stream",
       "stream": "stdout",
       "text": [
        ".\n",
        "./.ipynb_checkpoints\n",
        "./mujets_wp\n",
        "./mujets_wp/NOttbar\n",
        "./mujets_wp/ttbar\n",
        "./SFLIGHT\n",
        "./TTbar\n",
        "set(['CombinedSecondaryVertexT\\n', 'TrackCountingHighPurT\\n', 'CombinedSecondaryVertexL\\n', 'CombinedSecondaryVertexSoftPFLeptonV1T\\n', 'CombinedSecondaryVertexM\\n', 'CombinedSecondaryVertexV1L\\n', 'CombinedSecondaryVertexV1M\\n', 'JetProbabilityT\\n', 'CombinedSecondaryVertexSoftPFLeptonV1L\\n', 'CombinedSecondaryVertexSoftPFLeptonV1M\\n', 'CombinedSecondaryVertexV1T\\n', 'TrackCountingHighPur\\n', 'CombinedSecondaryVertex\\n', 'JetProbabilityL\\n', 'JetProbability\\n', 'JetProbabilityM\\n'])\n",
        "set(['PerformancePayloadFromBinnedTFormula\\n', 'PerformancePayloadFromTable\\n'])\n",
        "set([1009, 1010, 1011, 1012, 1013, 1014])\n",
        "set([1, 2, 2001])\n",
        "set(['JetProbability', 'CombinedSecond', 'TrackCountingH'])\n"
       ]
      }
     ],
     "prompt_number": 65
    },
    {
     "cell_type": "code",
     "collapsed": false,
     "input": [],
     "language": "python",
     "metadata": {},
     "outputs": []
    }
   ],
   "metadata": {}
  }
 ]
}